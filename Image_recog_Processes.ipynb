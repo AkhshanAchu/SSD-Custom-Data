{
  "cells": [
    {
      "cell_type": "code",
      "execution_count": 1,
      "metadata": {
        "id": "Vri8CV1rqzCC"
      },
      "outputs": [],
      "source": [
        "from google.colab import drive"
      ]
    },
    {
      "cell_type": "code",
      "execution_count": null,
      "metadata": {
        "id": "56ICPvSrrA2u"
      },
      "outputs": [],
      "source": [
        "!git clone https://github.com/tensorflow/models.git"
      ]
    },
    {
      "cell_type": "code",
      "execution_count": null,
      "metadata": {
        "id": "tGjJyVrRrXHC"
      },
      "outputs": [],
      "source": [
        "!apt-get install protobuf-compiler python-lxml python-pil\n",
        "!pip install Cython pandas tf-slim lvis"
      ]
    },
    {
      "cell_type": "code",
      "execution_count": null,
      "metadata": {
        "id": "oXhjUyFWsDMp"
      },
      "outputs": [],
      "source": [
        "!cd /content/drive/MyDrive/Colab_Notebooks/TensorFlow/models/research/slim"
      ]
    },
    {
      "cell_type": "code",
      "execution_count": null,
      "metadata": {
        "id": "A5qq-6DWsKfC"
      },
      "outputs": [],
      "source": [
        "!pip install -e ."
      ]
    },
    {
      "cell_type": "markdown",
      "metadata": {
        "id": "N1WmdBPasWO6"
      },
      "source": [
        "Dont forget to change the pbtxt"
      ]
    },
    {
      "cell_type": "code",
      "execution_count": null,
      "metadata": {
        "id": "GYkbl__5sVHd"
      },
      "outputs": [],
      "source": [
        "import os\n",
        "\n",
        "CUSTOM_MODEL_NAME='my_ssd_mobnet'\n",
        "PRETRAINED_MODEL_NAME=\"sd_mobilenet_v2_fpnlite_320x320_coco17_tpu-8\"\n",
        "PRETRAINED_MODEL_URL=\"http://download.tensorflow.org/models/object_detection/tf2/20200711/ssd_mobilenet_v2_fpnlite_320x320_coco17_tpu-8.tar.gz\"\n",
        "TF_RECORD_SCRIPT_NAME='generate_tfrecord.py'\n",
        "LABEL_MAP_NAME='label_map.pbtxt'\n",
        "\n",
        "paths={\n",
        "    'WORKSPACE_PATH':\"/content/drive/MyDrive/'Colab_Notebooks'/TensorFlow/workspace\",\n",
        "    'SCRIPTS_PATH':\"/content/drive/MyDrive/'Colab_Notebooks'/TensorFlow/scripts\",\n",
        "    'API_MODEL_PATH':\"/content/drive/MyDrive/'Colab_Notebooks'/TensorFlow/models\",\n",
        "    'ANNOTATION_PATH':\"/content/drive/MyDrive/'Colab_Notebooks'/TensorFlow/workspace/annotations\",\n",
        "    'IMAGE_PATH':\"/content/drive/MyDrive/'Colab_Notebooks'/TensorFlow/workspace/images\",\n",
        "    'MODEL_PATH':\"/content/drive/MyDrive/'Colab_Notebooks'/TensorFlow/workspace/models\",\n",
        "    'PRETRAINED_MODEL_PATH':os.path.join('TensorFlow','workspace','pre-trained-models'),\n",
        "    'CHECKPOINT_PATH':\"/content/drive/MyDrive/'Colab_Notebooks'/TensorFlow/workspace/models/my_ssd_mobnet\",\n",
        "    'OUTPUT_PATH':os.path.join('TensorFlow','workspace','models',CUSTOM_MODEL_NAME,'export'),\n",
        "    'TFJS_PATH':os.path.join('TensorFlow','workspace','models',CUSTOM_MODEL_NAME,'tfjsexport'),\n",
        "    'TFLITE_PATH':os.path.join('TensorFlow','workspace','models',CUSTOM_MODEL_NAME,'tfliteexport'),\n",
        "    'PROTOC_PATH':os.path.join('TensorFlow','protoc')\n",
        "\n",
        "}\n",
        "\n",
        "files ={\n",
        "    'PIPELINE_CONFIG':\"/content/drive/MyDrive/'Colab_Notebooks'/TensorFlow/workspace/models/my_ssd_mobnet/pipeline.config\",\n",
        "    'TF_RECORD_SCRIPT':os.path.join(paths['SCRIPTS_PATH'],TF_RECORD_SCRIPT_NAME),\n",
        "    'LABELMAP':\"/content/drive/MyDrive/'Colab_Notebooks'/TensorFlow/workspace/annotations/label_map.pbtxt\"\n",
        "}\n",
        "\n"
      ]
    },
    {
      "cell_type": "code",
      "execution_count": null,
      "metadata": {
        "id": "1CV7pmjjrlJ0"
      },
      "outputs": [],
      "source": [
        "!pip install tensorflow-object-detection-api"
      ]
    },
    {
      "cell_type": "code",
      "execution_count": null,
      "metadata": {
        "id": "JwFp5EJYwOt_"
      },
      "outputs": [],
      "source": [
        "!cd /content/drive/MyDrive/Colab_Notebooks/TensorFlow/models/research/object_detection/packages/tf2/setup.py"
      ]
    },
    {
      "cell_type": "code",
      "execution_count": null,
      "metadata": {
        "id": "Jrubjw7-wOxj"
      },
      "outputs": [],
      "source": [
        "!!python setup.py build\n",
        "!python setup.py install"
      ]
    },
    {
      "cell_type": "markdown",
      "metadata": {
        "id": "Ypp2eljMwbck"
      },
      "source": [
        "Below one line is additional check is the main_.... that thing is there"
      ]
    },
    {
      "cell_type": "code",
      "execution_count": null,
      "metadata": {
        "id": "LE_d1SWqrlNR"
      },
      "outputs": [],
      "source": [
        "!cp /content/drive/MyDrive/'Colab_Notebooks'/TensorFlow/models/research/object_detection/exporter_main_v2.py /content/drive/MyDrive/'Colab Notebooks'/TensorFlow/workspace/training_demo"
      ]
    },
    {
      "cell_type": "code",
      "execution_count": null,
      "metadata": {
        "id": "xA4KCwBurlQH"
      },
      "outputs": [],
      "source": [
        "!git clone http://download.tensorflow.org/models/object_detection/tf2/20200711/ssd_mobilenet_v2_320x320_coco17_tpu-8.tar.gz"
      ]
    },
    {
      "cell_type": "code",
      "execution_count": null,
      "metadata": {
        "id": "EHBUlEwsrlR6"
      },
      "outputs": [],
      "source": [
        "!cd /content/drive/MyDrive/Colab_Notebooks/TensorFlow/workspace/models/my_ssd_mobne"
      ]
    },
    {
      "cell_type": "code",
      "execution_count": null,
      "metadata": {
        "id": "7tkhXr8ntF6U"
      },
      "outputs": [],
      "source": [
        "! sudo tar -zxvf \"/content/drive/MyDrive/Colab Notebooks/TensorFlow/workspace/models/ssd_mobilenet_v2_fpnlite_320x320_coco17_tpu-8.tar.gz\"!cp {os.path.join(paths['PRETRAINED_MODEL_PATH'], PRETRAINED_MODEL_NAME, 'pipeline.config')} {os.path.join(paths['CHECKPOINT_PATH'])}"
      ]
    },
    {
      "cell_type": "code",
      "execution_count": null,
      "metadata": {
        "id": "j3scEcHWsr6d"
      },
      "outputs": [],
      "source": [
        "!cd /content/drive/MyDrive/Colab Notebooks/TensorFlow/workspace/annotations"
      ]
    },
    {
      "cell_type": "code",
      "execution_count": null,
      "metadata": {
        "id": "tq6JxGnBrlLa"
      },
      "outputs": [],
      "source": [
        "!python generate_tfrecord.py -x '/content/drive/MyDrive/Colab Notebooks/TensorFlow/workspace/images/train' -l '/content/drive/MyDrive/Colab Notebooks/TensorFlow/workspace/annotations/label_map.pbtxt' -o '/content/drive/MyDrive/Colab Notebooks/TensorFlow/workspace/annotations/train.record'\n",
        "!python generate_tfrecord.py -x '/content/drive/MyDrive/Colab Notebooks/TensorFlow/workspace/images/test' -l '/content/drive/MyDrive/Colab Notebooks/TensorFlow/workspace/annotations/label_map.pbtxt' -o '/content/drive/MyDrive/Colab Notebooks/TensorFlow/workspace/annotations/test.record'"
      ]
    },
    {
      "cell_type": "markdown",
      "metadata": {
        "id": "23i53Ei4uNit"
      },
      "source": [
        "**tf.io.gfile.GFile in the map_lib**\n",
        "\n",
        "\n",
        "label_map_dict = label_map_util.get_label_map_dict(args.labels_path) in generate tf *italicized text*"
      ]
    },
    {
      "cell_type": "code",
      "execution_count": null,
      "metadata": {
        "id": "bJt5s0sgtpNc"
      },
      "outputs": [],
      "source": [
        "!apt-get install protobuf-compiler\n",
        "!cd Tensorflow/models/research && protoc object_detection/protos/*.proto --python_out=. && cp object_detection/packages/tf2/setup.py . && python -m pip install . "
      ]
    },
    {
      "cell_type": "code",
      "execution_count": null,
      "metadata": {
        "id": "otaq1f4Mwqny"
      },
      "outputs": [],
      "source": [
        "!%cd '/content/drive/MyDrive/Colab_Notebooks/TensorFlow/models/research/object_detection/builders' \n",
        "!python model_builder_tf2_test.py\n",
        "\n",
        "from object_detection.utils import label_map_util\n",
        "from object_detection.utils import visualization_utils as viz_utils\n",
        "print('Done')\n"
      ]
    },
    {
      "cell_type": "markdown",
      "metadata": {
        "id": "8xKj3J0bv8_6"
      },
      "source": [
        "**Some stuff in the pipelining thing to remember** \n",
        "\n",
        "\n",
        "Line 3:\n",
        "num_classes: 3 (#number of classes your model can classify/ number of different labels)\n",
        "\n",
        "Line 131:\n",
        "batch_size: 16 (#you can read more about batch_size here)\n",
        "\n",
        "Line 161:\n",
        "fine_tune_checkpoint: \"pre-trained-models/ssd_resnet50_v1_fpn_640x640_coco17_tpu-8/checkpoint/ckpt-0\" (#path to checkpoint of downloaded pre-trained-model)\n",
        "\n",
        "Line 162:\n",
        "num_steps: 250000 (#maximum number of steps to train model, note that this specifies the maximum number of steps, you can stop model training on any step you wish)\n",
        "\n",
        "Line 167:\n",
        "fine_tune_checkpoint_type: \"detection\" (#since we are training full detection model, you can read more about model fine-tuning here dont forget man)\n",
        "\n",
        "Line 168:\n",
        "use_bfloat16: false (#Set this to true only if you are training on a TPU)\n",
        "\n",
        "Line 172:\n",
        "label_map_path: \"annotations/label_map.pbtxt\" (#path to your label_map file)\n",
        "\n",
        "Line 174:\n",
        "input_path: \"annotations/train.record\" (#path to train.record)\n",
        "\n",
        "Line 182:\n",
        "label_map_path: \"annotations/label_map.pbtxt\" (#path to your label_map file)\n",
        "\n",
        "Line 186:\n",
        "input_path: \"annotations/test.record\" (#Path to test.record)"
      ]
    },
    {
      "cell_type": "code",
      "execution_count": null,
      "metadata": {
        "id": "3h28qkAputGt"
      },
      "outputs": [],
      "source": [
        "TRAINING_SCRIPT = os.path.join(paths['API_MODEL_PATH'], 'research', 'object_detection', 'model_main_tf2.py')"
      ]
    },
    {
      "cell_type": "code",
      "execution_count": null,
      "metadata": {
        "id": "PioIEhW6rlUE"
      },
      "outputs": [],
      "source": [
        "command = \"python {} --model_dir={} --pipeline_config_path={} --num_train_steps=2000\".format(TRAINING_SCRIPT, paths['CHECKPOINT_PATH'],files['PIPELINE_CONFIG'])\n",
        "!{command}"
      ]
    },
    {
      "cell_type": "code",
      "execution_count": null,
      "metadata": {
        "id": "sre-GnqzrlVU"
      },
      "outputs": [],
      "source": [
        "VERIFICATION_SCRIPT = os.path.join(paths['API_MODEL_PATH'], 'research', 'object_detection', 'builders', 'model_builder_tf2_test.py')\n",
        "# Verify Installation\n",
        "!python {VERIFICATION_SCRIPT}"
      ]
    },
    {
      "cell_type": "code",
      "execution_count": null,
      "metadata": {
        "id": "UKJKY681rlXM"
      },
      "outputs": [],
      "source": [
        "!pip uninstall opencv-python-headless==4.5.5.62\n",
        "!pip install opencv-python-headless==4.5.2.52"
      ]
    },
    {
      "cell_type": "code",
      "execution_count": null,
      "metadata": {
        "id": "YBisKtFLrlYw"
      },
      "outputs": [],
      "source": [
        "!apt install --allow-change-held-packages libcudnn8=8.1.0.77-1+cuda11.2"
      ]
    },
    {
      "cell_type": "code",
      "execution_count": null,
      "metadata": {
        "id": "E3bunbVErlah"
      },
      "outputs": [],
      "source": [
        "command = \"python {} --model_dir={} --pipeline_config_path={} --num_train_steps=50000\".format(TRAINING_SCRIPT, paths['CHECKPOINT_PATH'],files['PIPELINE_CONFIG'])\n",
        "!{command}"
      ]
    },
    {
      "cell_type": "code",
      "execution_count": null,
      "metadata": {
        "id": "PunBOrZmrld-"
      },
      "outputs": [],
      "source": [
        "command = \"python {} --model_dir={} --pipeline_config_path={} --checkpoint_dir={}\".format(TRAINING_SCRIPT, paths['CHECKPOINT_PATH'],files['PIPELINE_CONFIG'], paths['CHECKPOINT_PATH'])\n",
        "!{command}"
      ]
    },
    {
      "cell_type": "code",
      "execution_count": null,
      "metadata": {
        "id": "X4CHaD95vi_G"
      },
      "outputs": [],
      "source": [
        "!python \"/content/drive/MyDrive/Colab_Notebooks/TensorFlow/models/research/object_detection/exporter_main_v2.py\" --input_type image_tensor --pipeline_config_path \"/content/drive/MyDrive/Colab_Notebooks/TensorFlow/workspace/models/my_ssd_mobnet/pipeline.config\" --trained_checkpoint_dir \"/content/drive/MyDrive/Colab_Notebooks/TensorFlow/workspace/models/my_ssd_mobnet\" --output_directory \"/content/drive/MyDrive/Colab_Notebooks/TensorFlow/workspace/models/my_ssd_mobnet/export\""
      ]
    },
    {
      "cell_type": "code",
      "execution_count": null,
      "metadata": {
        "id": "k77ANCgbvjA3"
      },
      "outputs": [],
      "source": [
        "import tensorflow as tf\n",
        "import time\n",
        "from object_detection.utils import label_map_util\n",
        "from object_detection.utils import visualization_utils as viz_utils\n",
        "PATH_TO_SAVED_MODEL=\"/content/drive/MyDrive/Colab_Notebooks/TensorFlow/workspace/models/my_ssd_mobnet/export/saved_model\"\n",
        "print('Loading model...', end='')\n",
        "# Load saved model and build the detection function\n",
        "detect_fn=tf.saved_model.load(PATH_TO_SAVED_MODEL)\n",
        "print('Done!')"
      ]
    },
    {
      "cell_type": "code",
      "execution_count": null,
      "metadata": {
        "id": "piewvpamvjCS"
      },
      "outputs": [],
      "source": [
        "category_index=label_map_util.create_category_index_from_labelmap(\"/content/drive/MyDrive/Colab_Notebooks/TensorFlow/workspace/annotations/label_map.pbtxt\",use_display_name=True)"
      ]
    },
    {
      "cell_type": "code",
      "execution_count": null,
      "metadata": {
        "id": "q5ec1kTZvjEI"
      },
      "outputs": [],
      "source": [
        "import os\n",
        "img=[]\n",
        "for filename in os.listdir('/content/drive/MyDrive/Colab_Notebooks/TensorFlow/workspace/nothing'):\n",
        "  if filename.endswith('.jpg'):\n",
        "    img.append(os.path.join(\"/content/drive/MyDrive/Colab_Notebooks/TensorFlow/workspace/nothing\",filename,))"
      ]
    },
    {
      "cell_type": "code",
      "execution_count": null,
      "metadata": {
        "id": "Y8Jt8BE1vjGF"
      },
      "outputs": [],
      "source": [
        "import numpy as np\n",
        "from PIL import Image\n",
        "import matplotlib.pyplot as plt\n",
        "import warnings\n",
        "warnings.filterwarnings('ignore')\n",
        "def load_image_into_numpy_array(path):\n",
        "    return np.array(Image.open(path))\n",
        "for image_path in img:\n",
        "  print('Running inference for {}... '.format(image_path), end='')\n",
        "  image_np=load_image_into_numpy_array(image_path)\n",
        "  input_tensor=tf.convert_to_tensor(image_np)\n",
        "  input_tensor=input_tensor[tf.newaxis, ...]\n",
        "  detections=detect_fn(input_tensor)\n",
        "  num_detections=int(detections.pop('num_detections'))\n",
        "  detections={key:value[0,:num_detections].numpy() for key,value in detections.items()}\n",
        "  detections['num_detections']=num_detections\n",
        "  detections['detection_classes']= detections['detection_classes'].astype(np.int64)\n",
        "  image_np_with_detections=image_np.copy()\n",
        "  viz_utils.visualize_boxes_and_labels_on_image_array(\n",
        "          image_np_with_detections,\n",
        "          detections['detection_boxes'],\n",
        "          detections['detection_classes'],\n",
        "          detections['detection_scores'],\n",
        "          category_index,\n",
        "          use_normalized_coordinates=True,\n",
        "          max_boxes_to_draw=100,     \n",
        "          min_score_thresh=.5,      \n",
        "          agnostic_mode=False)\n",
        "  %matplotlib inline\n",
        "  plt.figure()\n",
        "  plt.imshow(image_np_with_detections)\n",
        "  print('Done')\n",
        "  plt.show()"
      ]
    },
    {
      "cell_type": "code",
      "execution_count": null,
      "metadata": {
        "id": "TeOPCDTCvjH8"
      },
      "outputs": [],
      "source": []
    },
    {
      "cell_type": "code",
      "execution_count": null,
      "metadata": {
        "id": "eDWxVBhgvjKq"
      },
      "outputs": [],
      "source": []
    },
    {
      "cell_type": "code",
      "execution_count": null,
      "metadata": {
        "id": "3fokENjivjL6"
      },
      "outputs": [],
      "source": []
    },
    {
      "cell_type": "code",
      "execution_count": null,
      "metadata": {
        "id": "dRInVYHivjOc"
      },
      "outputs": [],
      "source": []
    }
  ],
  "metadata": {
    "colab": {
      "collapsed_sections": [],
      "name": "Image_recog_takagi.ipynb",
      "provenance": []
    },
    "kernelspec": {
      "display_name": "Python 3",
      "name": "python3"
    },
    "language_info": {
      "name": "python"
    }
  },
  "nbformat": 4,
  "nbformat_minor": 0
}
